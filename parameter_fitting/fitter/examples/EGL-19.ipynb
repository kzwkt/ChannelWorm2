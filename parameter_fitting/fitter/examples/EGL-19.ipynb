{
 "cells": [
  {
   "cell_type": "markdown",
   "metadata": {},
   "source": [
    "### Parameter Extraction for EGL-19 Ion Channel"
   ]
  },
  {
   "cell_type": "code",
   "execution_count": 1,
   "metadata": {},
   "outputs": [],
   "source": [
    "\"\"\"\n",
    "Example of using cwFitter to generate a HH model for EGL-19 Ca2+ ion channel\n",
    "Based on experimental data from doi:10.1083/jcb.200203055\n",
    "\"\"\"\n",
    "import os.path\n",
    "import sys\n",
    "sys.path.append('..')\n",
    "sys.path.append('../..')\n",
    "sys.path.append('../../..')\n",
    "\n",
    "import django\n",
    "\n",
    "from scipy.optimize import curve_fit\n",
    "import numpy as np\n",
    "import matplotlib.pyplot as plt\n",
    "from neurotune import optimizers\n",
    "\n",
    "from channelworm.fitter import *\n",
    "\n",
    "# Setup access to the Django database\n",
    "os.environ.setdefault(\n",
    "    \"DJANGO_SETTINGS_MODULE\",\n",
    "    \"channelworm.web_app.settings\"\n",
    ")\n",
    "django.setup()\n",
    "\n",
    "from channelworm.ion_channel.models import GraphData"
   ]
  },
  {
   "cell_type": "code",
   "execution_count": 2,
   "metadata": {},
   "outputs": [],
   "source": [
    "def IV_act(V,g,Vhalf,k,a_power,e_rev):\n",
    "    return g * (1/(1 + np.exp((Vhalf - V)/k)))**int(a_power) * (V - e_rev)\n",
    "\n",
    "# if __name__ == '__main__':\n",
    "\n",
    "userData = dict()\n",
    "\n",
    "cwd=os.getcwd()\n",
    "csv_path = os.path.dirname(cwd)+'/examples/egl-19-data/egl-19-IClamp-IV.csv'\n",
    "ref = {'fig':'2B','doi':'10.1083/jcb.200203055'}\n",
    "x_var = {'type':'Voltage','unit':'V','toSI':1}\n",
    "y_var = {'type':'Current','unit':'A/F','toSI':1}\n",
    "IV = {'ref':ref,'csv_path':csv_path,'x_var':x_var,'y_var':y_var}\n",
    "userData['samples'] = {'IV':IV}\n"
   ]
  },
  {
   "cell_type": "code",
   "execution_count": 3,
   "metadata": {},
   "outputs": [],
   "source": [
    "myInitiator = initiators.Initiator(userData)"
   ]
  },
  {
   "cell_type": "code",
   "execution_count": 4,
   "metadata": {},
   "outputs": [],
   "source": [
    "myInitiator = initiators.Initiator(userData)\n",
    "sampleData = myInitiator.get_sample_params()\n",
    "bio_params = myInitiator.get_bio_params()\n",
    "sim_params = myInitiator.get_sim_params(type='IClamp')\n",
    "# sim_params = myInitiator.get_sim_params()\n",
    "sim_params = sim_params['IC']\n",
    "sim_params['ca_con'] = 1e-6\n",
    "\n",
    "myEvaluator = evaluators.Evaluator(sampleData,sim_params,bio_params)\n",
    "\n",
    "\"\"\"\n",
    "Using a population size 20 times larger than the number of free parameters \n",
    "is what is suggested by Gurkiewicz and Korngreen.  \n",
    "\"\"\"\n",
    "\n",
    "candidates = optimizers.CustomOptimizerA(bio_params['max_val_channel'],\n",
    "                                             bio_params['min_val_channel'],\n",
    "                                             myEvaluator,\n",
    "                                             population_size=300, #20 times larger than free parameters\n",
    "                                             max_evaluations=600,\n",
    "                                             num_selected=2,\n",
    "                                             num_offspring=15,\n",
    "                                             num_elites=1,\n",
    "                                             mutation_rate=0.05,\n",
    "                                             maximize = False,\n",
    "                                             seeds=None,\n",
    "                                             verbose=True)"
   ]
  },
  {
   "cell_type": "code",
   "execution_count": 5,
   "metadata": {},
   "outputs": [],
   "source": [
    "# best_candidate = candidates.optimize(do_plot=True, seed=1234)\n",
    "#\"\"\"\n",
    "best_candidate = [189.66504757196532, 0.04619592278775828, -0.0015715032129984834, 0.03232782689368996,\n",
    "   0.0009038799935426481, -0.0006996189007248855, 0.0002076054785033701, 0.5361776032113692,\n",
    "   2.0, 1.0, 2.9942088447494227e-07, 0.18712673917281542, -1.1396759086697654e-07,\n",
    "   0.014145060464901655, 1.0]\n",
    "#\"\"\"\n",
    "best_candidate_params = dict(zip(bio_params['channel_params'],best_candidate))\n",
    "cell_var = dict(zip(bio_params['cell_params'],bio_params['val_cell_params']))\n",
    "mySimulator = simulators.Simulator(sim_params,best_candidate_params,cell_var,bio_params['gate_params'])\n",
    "bestSim = dict()"
   ]
  },
  {
   "cell_type": "code",
   "execution_count": 6,
   "metadata": {},
   "outputs": [
    {
     "ename": "AttributeError",
     "evalue": "'Simulator' object has no attribute 'VClamp'",
     "output_type": "error",
     "traceback": [
      "\u001b[0;31m---------------------------------------------------------------------------\u001b[0m",
      "\u001b[0;31mAttributeError\u001b[0m                            Traceback (most recent call last)",
      "\u001b[0;32m<ipython-input-6-b02b170e77de>\u001b[0m in \u001b[0;36m<module>\u001b[0;34m()\u001b[0m\n\u001b[1;32m      3\u001b[0m \u001b[0;32mif\u001b[0m \u001b[0;34m(\u001b[0m\u001b[0;34m'VClamp'\u001b[0m \u001b[0;32min\u001b[0m \u001b[0msampleData\u001b[0m\u001b[0;34m)\u001b[0m \u001b[0;32mor\u001b[0m \u001b[0;34m(\u001b[0m\u001b[0;34m(\u001b[0m\u001b[0;34m'IV'\u001b[0m \u001b[0;32min\u001b[0m \u001b[0msampleData\u001b[0m\u001b[0;34m)\u001b[0m \u001b[0;32mand\u001b[0m \u001b[0;34m(\u001b[0m\u001b[0;34m(\u001b[0m\u001b[0;34m'VClamp'\u001b[0m \u001b[0;32mand\u001b[0m \u001b[0;34m'IClamp'\u001b[0m\u001b[0;34m)\u001b[0m \u001b[0;32mnot\u001b[0m \u001b[0;32min\u001b[0m \u001b[0msampleData\u001b[0m\u001b[0;34m)\u001b[0m\u001b[0;34m)\u001b[0m\u001b[0;34m:\u001b[0m\u001b[0;34m\u001b[0m\u001b[0m\n\u001b[1;32m      4\u001b[0m   \u001b[0mbestSim\u001b[0m\u001b[0;34m.\u001b[0m\u001b[0mupdate\u001b[0m\u001b[0;34m(\u001b[0m\u001b[0;34m{\u001b[0m\u001b[0;34m'VClamp'\u001b[0m\u001b[0;34m:\u001b[0m\u001b[0;34m{\u001b[0m\u001b[0;34m}\u001b[0m\u001b[0;34m}\u001b[0m\u001b[0;34m)\u001b[0m\u001b[0;34m\u001b[0m\u001b[0m\n\u001b[0;32m----> 5\u001b[0;31m   \u001b[0mbestSim\u001b[0m\u001b[0;34m[\u001b[0m\u001b[0;34m'VClamp'\u001b[0m\u001b[0;34m]\u001b[0m\u001b[0;34m[\u001b[0m\u001b[0;34m't'\u001b[0m\u001b[0;34m]\u001b[0m\u001b[0;34m,\u001b[0m\u001b[0mbestSim\u001b[0m\u001b[0;34m[\u001b[0m\u001b[0;34m'VClamp'\u001b[0m\u001b[0;34m]\u001b[0m\u001b[0;34m[\u001b[0m\u001b[0;34m'I'\u001b[0m\u001b[0;34m]\u001b[0m\u001b[0;34m,\u001b[0m\u001b[0mbestSim\u001b[0m\u001b[0;34m[\u001b[0m\u001b[0;34m'VClamp'\u001b[0m\u001b[0;34m]\u001b[0m\u001b[0;34m[\u001b[0m\u001b[0;34m'V_max'\u001b[0m\u001b[0;34m]\u001b[0m\u001b[0;34m,\u001b[0m\u001b[0mbestSim\u001b[0m\u001b[0;34m[\u001b[0m\u001b[0;34m'VClamp'\u001b[0m\u001b[0;34m]\u001b[0m\u001b[0;34m[\u001b[0m\u001b[0;34m'I_max'\u001b[0m\u001b[0;34m]\u001b[0m \u001b[0;34m=\u001b[0m \u001b[0mmySimulator\u001b[0m\u001b[0;34m.\u001b[0m\u001b[0mVClamp\u001b[0m\u001b[0;34m(\u001b[0m\u001b[0;34m)\u001b[0m\u001b[0;34m\u001b[0m\u001b[0m\n\u001b[0m\u001b[1;32m      6\u001b[0m \u001b[0;32mif\u001b[0m \u001b[0;34m'IClamp'\u001b[0m \u001b[0;32min\u001b[0m \u001b[0msampleData\u001b[0m\u001b[0;34m:\u001b[0m\u001b[0;34m\u001b[0m\u001b[0m\n\u001b[1;32m      7\u001b[0m   \u001b[0mbestSim\u001b[0m\u001b[0;34m.\u001b[0m\u001b[0mupdate\u001b[0m\u001b[0;34m(\u001b[0m\u001b[0;34m{\u001b[0m\u001b[0;34m'IClamp'\u001b[0m\u001b[0;34m:\u001b[0m\u001b[0;34m{\u001b[0m\u001b[0;34m}\u001b[0m\u001b[0;34m}\u001b[0m\u001b[0;34m)\u001b[0m\u001b[0;34m\u001b[0m\u001b[0m\n",
      "\u001b[0;31mAttributeError\u001b[0m: 'Simulator' object has no attribute 'VClamp'"
     ]
    }
   ],
   "source": [
    "# The I/V plot could come from either VClamp or IClamp (VClamp is preferred as is more common)\n",
    "\n",
    "if ('VClamp' in sampleData) or (('IV' in sampleData) and (('VClamp' and 'IClamp') not in sampleData)):\n",
    "  bestSim.update({'VClamp':{}})\n",
    "  bestSim['VClamp']['t'],bestSim['VClamp']['I'],bestSim['VClamp']['V_max'],bestSim['VClamp']['I_max'] = mySimulator.VClamp()\n",
    "if 'IClamp' in sampleData:\n",
    "  bestSim.update({'IClamp':{}})\n",
    "  bestSim['IClamp']['t'],bestSim['IClamp']['V'],bestSim['IClamp']['V_max'],bestSim['IClamp']['I_max'] = mySimulator.IClamp()\n",
    "\n",
    "myModelator = modelators.Modelator(bio_params,sim_params).compare_plots(sampleData,bestSim,show=True)"
   ]
  },
  {
   "cell_type": "code",
   "execution_count": 7,
   "metadata": {},
   "outputs": [
    {
     "data": {
      "text/plain": [
       "(False, False)"
      ]
     },
     "execution_count": 7,
     "metadata": {},
     "output_type": "execute_result"
    }
   ],
   "source": [
    "'VClamp' in sampleData, 'IClamp' in sampleData"
   ]
  },
  {
   "cell_type": "code",
   "execution_count": null,
   "metadata": {},
   "outputs": [],
   "source": [
    "# Fitting to the I/V curve and optimizing parameters\n",
    "# According to the literature, the I/V plot coming from steady state currents\n",
    "# Only activation expressions will be considered\n",
    "vData = np.arange(-0.040, 0.080, 0.001)\n",
    "p0 = [best_candidate_params['g'],best_candidate_params['v_half_a'],best_candidate_params['k_a'],best_candidate_params['a_power'],best_candidate_params['e_rev']]\n",
    "\n",
    "Vsample = np.asarray(sampleData['IV']['V'])\n",
    "Isample = np.asarray(sampleData['IV']['I'])\n",
    "popt,pcov = curve_fit(IV_act, Vsample,Isample,p0)\n",
    "Iopt = IV_act(vData,popt[0],popt[1],popt[2],popt[3],popt[4])\n",
    "\n",
    "\n",
    "print(p0)\n",
    "print(popt)"
   ]
  },
  {
   "cell_type": "code",
   "execution_count": null,
   "metadata": {},
   "outputs": [],
   "source": [
    "if 'VClamp' in bestSim:\n",
    "  model_plot, = plt.plot([x*1e3 for x in bestSim['VClamp']['V_max']],bestSim['VClamp']['I_max'], label = 'simulated using GA')\n",
    "else:\n",
    "  model_plot, = plt.plot([x*1e3 for x in bestSim['IClamp']['V_max']],bestSim['IClamp']['I_max'])\n",
    "  sample, = plt.plot([x*1e3 for x in sampleData['IV']['V']],sampleData['IV']['I'], 'y', label = 'sample data')\n",
    "  # sim, =plt.plot(vData,I, label = 'simulated_curve')\n",
    "  opt, =plt.plot([x*1e3 for x in vData],Iopt, 'r', label = 'optimized with GA and  minimization function')\n",
    "  plt.legend([model_plot,sample,opt])\n",
    "  # plt.legend([model_plot,sample,opt,sim])\n",
    "  # plt.legend([sample,opt])\n",
    "  plt.title(\"The Best Model fitted to data using GA and  minimization function\")\n",
    "  plt.ylabel('I (A/F)')\n",
    "  plt.xlabel('V (mV)')\n",
    "  plt.show()"
   ]
  }
 ],
 "metadata": {
  "kernelspec": {
   "display_name": "Python 3",
   "language": "python",
   "name": "python3"
  },
  "language_info": {
   "codemirror_mode": {
    "name": "ipython",
    "version": 2
   },
   "file_extension": ".py",
   "mimetype": "text/x-python",
   "name": "python",
   "nbconvert_exporter": "python",
   "pygments_lexer": "ipython2",
   "version": "2.7.15"
  }
 },
 "nbformat": 4,
 "nbformat_minor": 2
}
